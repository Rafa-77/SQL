{
 "cells": [
  {
   "cell_type": "code",
   "execution_count": null,
   "metadata": {},
   "outputs": [],
   "source": []
  },
  {
   "cell_type": "markdown",
   "metadata": {},
   "source": [
    "Columns:\n",
    "\n",
    "| institucion | grado | periodo_examen | asignatura | pregunta | opcion_a | opcion_b | opcion_c | opcion_d | respuesta | imagen | "
   ]
  },
  {
   "cell_type": "code",
   "execution_count": null,
   "metadata": {},
   "outputs": [],
   "source": [
    "base ={\n",
    "    [\"UNAM\", \"UNIVERSIDAD\", 2017, \"FISICA\", \"Del movimiento de un coche se obtuvo la siguiente gráfica de distancia recorrida \\033[3m(d)\\033[0m en funcion del tiempo empleado \\033[3m(f)\\033[0m. Indica las secciones donde el movimiento es uniforme, acelerado o que el objeto está en reposo.\", \"Movimiento uniforme: II y III\\nMovimiento acelerado: I\\nReposo: IV\", \"Movimiento uniforme: I y III\\nMovimiento acelerado: II\\nReposo: IV\", \"Movimiento uniforme: III\\nMovimiento acelerado: I\\nReposo: II y IV\", \"Movimiento uniforme: II\\nMovimiento acelerado: I y III\\nReposo: IV\", 4, \"D:\\alex_\\Documents\\Programacion\\SQL\\UNAM\\IMAGES\\UNAM_UNIVERSIDAD_2017\\FISICA01.png\"],\n",
    "    [\"UNAM\", \"UNIVERSIDAD\", 2017, \"FISICA\", \"Un auto arranca con una aceleración constante de \\(1.8 m/s^2\\); la velocidad del auto dos segundos después de iniciar su movimiento es de \", \"\\(0.9 m/s\\)\", \"\\(1.8 m/s\\)\", \"\\(3.2 m/s\\)\", \"\\(4.6 m/s\\)\", 4, \"NA\"],\n",
    "    [\"UNAM\", \"UNIVERSIDAD\", 2017, \"FISICA\"]\n",
    "}\n"
   ]
  },
  {
   "cell_type": "code",
   "execution_count": 6,
   "metadata": {},
   "outputs": [
    {
     "name": "stdout",
     "output_type": "stream",
     "text": [
      "Movimiento uniforme: I y III\n",
      "Movimiento acelerado: II\n",
      "Reposo: IV\n"
     ]
    }
   ],
   "source": [
    "print(\"Movimiento uniforme: I y III\\nMovimiento acelerado: II\\nReposo: IV\")\n"
   ]
  },
  {
   "cell_type": "code",
   "execution_count": 8,
   "metadata": {},
   "outputs": [
    {
     "name": "stdout",
     "output_type": "stream",
     "text": [
      "El resultado de 2^3 es: 8\n"
     ]
    }
   ],
   "source": [
    "base = 2\n",
    "exponente = 3\n",
    "\n",
    "print(f\"El resultado de {base}^{exponente} es: {base**exponente}\")\n"
   ]
  },
  {
   "cell_type": "code",
   "execution_count": null,
   "metadata": {},
   "outputs": [],
   "source": []
  }
 ],
 "metadata": {
  "kernelspec": {
   "display_name": "base",
   "language": "python",
   "name": "python3"
  },
  "language_info": {
   "codemirror_mode": {
    "name": "ipython",
    "version": 3
   },
   "file_extension": ".py",
   "mimetype": "text/x-python",
   "name": "python",
   "nbconvert_exporter": "python",
   "pygments_lexer": "ipython3",
   "version": "3.11.5"
  }
 },
 "nbformat": 4,
 "nbformat_minor": 2
}
